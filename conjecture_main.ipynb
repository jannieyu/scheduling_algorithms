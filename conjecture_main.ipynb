version https://git-lfs.github.com/spec/v1
oid sha256:0d54c8d7723fec1fa78776783307249dcf6693aa1ca0d3e980fce6b8b522e584
size 3545366
