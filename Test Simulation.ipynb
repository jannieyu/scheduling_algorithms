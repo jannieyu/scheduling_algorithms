{
 "cells": [
  {
   "cell_type": "code",
   "execution_count": 1,
   "metadata": {},
   "outputs": [],
   "source": [
    "from gurobipy import *\n",
    "import networkx as nx\n",
    "import numpy as np\n",
    "import random\n",
    "import math\n",
    "import matplotlib.pyplot as plt\n",
    "from simulations import Test\n",
    "from getf import GETF\n",
    "from opt_solver_util import (make_assignment_visual, \n",
    "                              solver_results, \n",
    "                              init_solver,\n",
    "                              get_makespan,\n",
    "                            v_helper)"
   ]
  },
  {
   "cell_type": "markdown",
   "metadata": {},
   "source": [
    "## Example 1"
   ]
  },
  {
   "cell_type": "code",
   "execution_count": 2,
   "metadata": {},
   "outputs": [
    {
     "ename": "TypeError",
     "evalue": "'dict' object cannot be interpreted as an integer",
     "output_type": "error",
     "traceback": [
      "\u001b[0;31m---------------------------------------------------------------------------\u001b[0m",
      "\u001b[0;31mTypeError\u001b[0m                                 Traceback (most recent call last)",
      "\u001b[0;32m<ipython-input-2-1f3775fbafd9>\u001b[0m in \u001b[0;36m<module>\u001b[0;34m\u001b[0m\n\u001b[1;32m      9\u001b[0m \u001b[0;34m\u001b[0m\u001b[0m\n\u001b[1;32m     10\u001b[0m simulations = Test(task_units, task_transfer_units, machine_speeds, \\\n\u001b[0;32m---> 11\u001b[0;31m             machine_comm_bandwidths, tie_breaking_rule)\n\u001b[0m\u001b[1;32m     12\u001b[0m \u001b[0;34m\u001b[0m\u001b[0m\n\u001b[1;32m     13\u001b[0m \u001b[0;31m# print(simulations.machine_task_list)\u001b[0m\u001b[0;34m\u001b[0m\u001b[0;34m\u001b[0m\u001b[0;34m\u001b[0m\u001b[0m\n",
      "\u001b[0;32m~/task_scheduling_solvers/simulations.py\u001b[0m in \u001b[0;36m__init__\u001b[0;34m(self, num_tasks, num_machines, num_edges, tie_breaking_rule, is_etf, random)\u001b[0m\n\u001b[1;32m     31\u001b[0m \u001b[0;34m\u001b[0m\u001b[0m\n\u001b[1;32m     32\u001b[0m         \u001b[0mself\u001b[0m\u001b[0;34m.\u001b[0m\u001b[0mtie_breaking_rule\u001b[0m \u001b[0;34m=\u001b[0m \u001b[0mtie_breaking_rule\u001b[0m\u001b[0;34m\u001b[0m\u001b[0;34m\u001b[0m\u001b[0m\n\u001b[0;32m---> 33\u001b[0;31m         \u001b[0mself\u001b[0m\u001b[0;34m.\u001b[0m\u001b[0mmachine_speeds\u001b[0m \u001b[0;34m=\u001b[0m \u001b[0;34m[\u001b[0m\u001b[0;36m1\u001b[0m \u001b[0;32mfor\u001b[0m \u001b[0m_\u001b[0m \u001b[0;32min\u001b[0m \u001b[0mrange\u001b[0m\u001b[0;34m(\u001b[0m\u001b[0mnum_machines\u001b[0m\u001b[0;34m)\u001b[0m\u001b[0;34m]\u001b[0m\u001b[0;34m\u001b[0m\u001b[0;34m\u001b[0m\u001b[0m\n\u001b[0m\u001b[1;32m     34\u001b[0m \u001b[0;34m\u001b[0m\u001b[0m\n\u001b[1;32m     35\u001b[0m         \u001b[0;31m# m: Number of machines\u001b[0m\u001b[0;34m\u001b[0m\u001b[0;34m\u001b[0m\u001b[0;34m\u001b[0m\u001b[0m\n",
      "\u001b[0;31mTypeError\u001b[0m: 'dict' object cannot be interpreted as an integer"
     ]
    }
   ],
   "source": [
    "num_tasks = 8\n",
    "num_machines = 2\n",
    "task_units = [1 for _ in range(num_tasks)]\n",
    "task_transfer_units = {(7, 5) : 1, (6, 4) : 1, (5, 4) : 1, (5, 3) : 1, (3, 1) : 1, (2, 1) : 1, (2, 0) : 1}\n",
    "machine_speeds = [1 for _ in range(num_machines)]\n",
    "machine_comm_bandwidths = [[-1 for _ in range(num_machines)] for _ in range(num_machines)]\n",
    "tie_breaking_rule = 1\n",
    "\n",
    "\n",
    "simulations = Test(task_units, task_transfer_units, machine_speeds, \\\n",
    "            machine_comm_bandwidths, tie_breaking_rule)\n",
    "\n",
    "# print(simulations.machine_task_list)\n",
    "# print(simulations.t)\n",
    "\n",
    "\n",
    "getf = GETF(task_units, task_transfer_units, machine_speeds, \\\n",
    "            machine_comm_bandwidths, tie_breaking_rule, is_etf=True)\n",
    "\n",
    "print(getf.machine_task_list)\n",
    "print(getf.t)\n"
   ]
  },
  {
   "cell_type": "code",
   "execution_count": null,
   "metadata": {},
   "outputs": [],
   "source": [
    "v = v_helper(num_tasks, simulations.machine_task_list, simulations.t)    \n",
    "m, s, O = init_solver(v)\n",
    "\n",
    "# Manually add constraints\n",
    "# m.Equation(1 / s[1] == 1 / s[5]) \n",
    "\n",
    "s, task_process_time = solver_results(s, m, O, verbose=True)\n",
    "t = [[None, None] for _ in range(len(v))]\n",
    "\n",
    "make_assignment_visual(t, task_process_time, simulations.machine_task_list)"
   ]
  },
  {
   "cell_type": "code",
   "execution_count": null,
   "metadata": {},
   "outputs": [],
   "source": [
    "v = v_helper(num_tasks, getf.machine_task_list, getf.t)              \n",
    "m, s, O = init_solver(v)\n",
    "# Manually add constraints\n",
    "\n",
    "m.Equation(1 / s[6] + 1 / s[0] >= 1 / s[2] + 1 / s[7] +  1 / s[5]) \n",
    "\n",
    "s, task_process_time = solver_results(s, m, O, verbose=True)\n",
    "t = [[None, None] for _ in range(len(v))]\n",
    "t[3][0] = sum(task_process_time[i] for i in [2, 7, 5])\n",
    "print(task_process_time)\n",
    "\n",
    "make_assignment_visual(t, task_process_time, getf.machine_task_list)"
   ]
  },
  {
   "cell_type": "code",
   "execution_count": null,
   "metadata": {},
   "outputs": [],
   "source": [
    "num_tasks = 8\n",
    "num_machines = 3\n",
    "task_units = [1 for _ in range(num_tasks)]\n",
    "task_transfer_units = {(7, 5) : 1, (6, 4) : 1, (5, 4) : 1, (5, 3) : 1, (3, 1) : 1, (2, 1) : 1, (2, 0) : 1}\n",
    "machine_speeds = [1 for _ in range(num_machines)]\n",
    "machine_comm_bandwidths = [[-1 for _ in range(num_machines)] for _ in range(num_machines)]\n",
    "tie_breaking_rule = 1\n",
    "\n",
    "\n",
    "simulations = Test(task_units, task_transfer_units, machine_speeds, \\\n",
    "            machine_comm_bandwidths, tie_breaking_rule)\n",
    "\n",
    "# print(simulations.machine_task_list)\n",
    "# print(simulations.t)\n",
    "\n",
    "\n",
    "getf = GETF(task_units, task_transfer_units, machine_speeds, \\\n",
    "            machine_comm_bandwidths, tie_breaking_rule, is_etf=True)\n",
    "\n",
    "# print(getf.machine_task_list)\n",
    "# print(getf.t)"
   ]
  },
  {
   "cell_type": "code",
   "execution_count": null,
   "metadata": {},
   "outputs": [],
   "source": [
    "v = v_helper(num_tasks, simulations.machine_task_list, simulations.t)    \n",
    "m, s, O = init_solver(v)\n",
    "\n",
    "# Manually add constraints\n",
    "# m.Equation(1 / s[1] == 1 / s[5]) \n",
    "\n",
    "s, task_process_time = solver_results(s, m, O, verbose=True)\n",
    "t = [[None, None] for _ in range(len(v))]\n",
    "\n",
    "make_assignment_visual(t, task_process_time, simulations.machine_task_list)"
   ]
  },
  {
   "cell_type": "code",
   "execution_count": null,
   "metadata": {},
   "outputs": [],
   "source": [
    "v = v_helper(num_tasks, getf.machine_task_list, getf.t)              \n",
    "m, s, O = init_solver(v)\n",
    "# Manually add constraints\n",
    "m.Equation(1 / s[6] + 1 / s[5] <= 1 / s[2] + 1 / s[0]) \n",
    "#m.Equation(1/s[7]  1/s[5])\n",
    "s, task_process_time = solver_results(s, m, O, verbose=True)\n",
    "t = [[None, None] for _ in range(len(v))]\n",
    "#t[3][0] = sum(task_process_time[i] for i in [2, 7, 5])\n",
    "print(task_process_time)\n",
    "\n",
    "make_assignment_visual(t, task_process_time, getf.machine_task_list)"
   ]
  },
  {
   "cell_type": "markdown",
   "metadata": {},
   "source": [
    "## Example 2"
   ]
  },
  {
   "cell_type": "code",
   "execution_count": null,
   "metadata": {},
   "outputs": [],
   "source": [
    "num_tasks = 10\n",
    "num_machines = 2\n",
    "task_units = [1 for _ in range(num_tasks)]\n",
    "task_transfer_units = {(0, 2) : 1, (1, 4) : 1, (2, 5) : 1, (3, 6) : 1, (4, 7) : 1, (5,8) : 1, (6,9) : 1, (1,2) : 1, (3,2) : 1, (4,5) : 1, (6,5) : 1, (7,8) : 1}\n",
    "machine_speeds = [1 for _ in range(num_machines)]\n",
    "machine_comm_bandwidths = [[-1 for _ in range(num_machines)] for _ in range(num_machines)]\n",
    "tie_breaking_rule = 1\n",
    "\n",
    "\n",
    "simulations = Test(task_units, task_transfer_units, machine_speeds, \\\n",
    "            machine_comm_bandwidths, tie_breaking_rule)\n",
    "\n",
    "print(simulations.machine_task_list)\n",
    "print(simulations.t)"
   ]
  },
  {
   "cell_type": "code",
   "execution_count": null,
   "metadata": {},
   "outputs": [],
   "source": [
    "v = v_helper(num_tasks, simulations.machine_task_list, simulations.t)    \n",
    "m, s, O = init_solver(v)\n",
    "\n",
    "# Manually add constraints\n",
    "# m.Equation(1 / s[1] == 1 / s[5]) \n",
    "\n",
    "s, task_process_time = solver_results(s, m, O, verbose=True)\n",
    "t = [[None, None] for _ in range(len(v))]\n",
    "\n",
    "make_assignment_visual(t, task_process_time, simulations.machine_task_list)"
   ]
  },
  {
   "cell_type": "code",
   "execution_count": null,
   "metadata": {},
   "outputs": [],
   "source": [
    "optimal =  sum([4 * np.sqrt(i) for i in range(5 + 1)])\n",
    "print(optimal)"
   ]
  },
  {
   "cell_type": "code",
   "execution_count": null,
   "metadata": {
    "scrolled": true
   },
   "outputs": [],
   "source": [
    "print(33.956172918 / 33.52932938976705)"
   ]
  },
  {
   "cell_type": "code",
   "execution_count": null,
   "metadata": {
    "scrolled": true
   },
   "outputs": [],
   "source": [
    "num_tasks = 8\n",
    "num_machines = 2\n",
    "task_units = [1 for _ in range(num_tasks)]\n",
    "task_transfer_units = {(0,2) : 1, (1,4) : 1, (2,5) : 1, (3,6) : 1, (4,7) : 1, (6,7) : 1, (1,2) : 1, (4,5) : 1, (3,2) : 1, (6,5) : 1}\n",
    "machine_speeds = [1 for _ in range(num_machines)]\n",
    "machine_comm_bandwidths = [[-1 for _ in range(num_machines)] for _ in range(num_machines)]\n",
    "tie_breaking_rule = 1\n",
    "\n",
    "\n",
    "simulations = Test(task_units, task_transfer_units, machine_speeds, \\\n",
    "            machine_comm_bandwidths, tie_breaking_rule)\n",
    "\n",
    "print(simulations.machine_task_list)\n",
    "print(simulations.t)"
   ]
  },
  {
   "cell_type": "code",
   "execution_count": null,
   "metadata": {
    "scrolled": false
   },
   "outputs": [],
   "source": [
    "v = v_helper(num_tasks, simulations.machine_task_list, simulations.t)    \n",
    "m, s, O = init_solver(v)\n",
    "\n",
    "# Manually add constraints\n",
    "#m.Equation(1 / s[0] + 1 / s[3] + 1 / s[6] + 1 / s[9] == 1 / s[1] + 1 / s[4] + 1 / s[2] + 1 / s[7]) \n",
    "\n",
    "s, task_process_time = solver_results(s, m, O, verbose=True)\n",
    "t = [[None, None] for _ in range(len(v))]\n",
    "\n",
    "make_assignment_visual(t, task_process_time, simulations.machine_task_list)"
   ]
  },
  {
   "cell_type": "code",
   "execution_count": null,
   "metadata": {},
   "outputs": [],
   "source": [
    "optimal =  sum([4 * np.sqrt(i) for i in range(4 + 1)])\n",
    "print(25.057193434/optimal)"
   ]
  },
  {
   "cell_type": "markdown",
   "metadata": {},
   "source": [
    "## Example 3\n"
   ]
  },
  {
   "cell_type": "code",
   "execution_count": 2,
   "metadata": {},
   "outputs": [
    {
     "ename": "TypeError",
     "evalue": "'dict' object cannot be interpreted as an integer",
     "output_type": "error",
     "traceback": [
      "\u001b[0;31m---------------------------------------------------------------------------\u001b[0m",
      "\u001b[0;31mTypeError\u001b[0m                                 Traceback (most recent call last)",
      "\u001b[0;32m<ipython-input-2-43276a8974d1>\u001b[0m in \u001b[0;36m<module>\u001b[0;34m\u001b[0m\n\u001b[1;32m      9\u001b[0m \u001b[0;34m\u001b[0m\u001b[0m\n\u001b[1;32m     10\u001b[0m simulations = Test(task_units, task_transfer_units, machine_speeds, \\\n\u001b[0;32m---> 11\u001b[0;31m             machine_comm_bandwidths, tie_breaking_rule)\n\u001b[0m\u001b[1;32m     12\u001b[0m \u001b[0;34m\u001b[0m\u001b[0m\n\u001b[1;32m     13\u001b[0m \u001b[0mprint\u001b[0m\u001b[0;34m(\u001b[0m\u001b[0msimulations\u001b[0m\u001b[0;34m.\u001b[0m\u001b[0mmachine_task_list\u001b[0m\u001b[0;34m)\u001b[0m\u001b[0;34m\u001b[0m\u001b[0;34m\u001b[0m\u001b[0m\n",
      "\u001b[0;32m~/task_scheduling_solvers/simulations.py\u001b[0m in \u001b[0;36m__init__\u001b[0;34m(self, num_tasks, num_machines, num_edges, tie_breaking_rule, is_etf, random)\u001b[0m\n\u001b[1;32m     31\u001b[0m \u001b[0;34m\u001b[0m\u001b[0m\n\u001b[1;32m     32\u001b[0m         \u001b[0mself\u001b[0m\u001b[0;34m.\u001b[0m\u001b[0mtie_breaking_rule\u001b[0m \u001b[0;34m=\u001b[0m \u001b[0mtie_breaking_rule\u001b[0m\u001b[0;34m\u001b[0m\u001b[0;34m\u001b[0m\u001b[0m\n\u001b[0;32m---> 33\u001b[0;31m         \u001b[0mself\u001b[0m\u001b[0;34m.\u001b[0m\u001b[0mmachine_speeds\u001b[0m \u001b[0;34m=\u001b[0m \u001b[0;34m[\u001b[0m\u001b[0;36m1\u001b[0m \u001b[0;32mfor\u001b[0m \u001b[0m_\u001b[0m \u001b[0;32min\u001b[0m \u001b[0mrange\u001b[0m\u001b[0;34m(\u001b[0m\u001b[0mnum_machines\u001b[0m\u001b[0;34m)\u001b[0m\u001b[0;34m]\u001b[0m\u001b[0;34m\u001b[0m\u001b[0;34m\u001b[0m\u001b[0m\n\u001b[0m\u001b[1;32m     34\u001b[0m \u001b[0;34m\u001b[0m\u001b[0m\n\u001b[1;32m     35\u001b[0m         \u001b[0;31m# m: Number of machines\u001b[0m\u001b[0;34m\u001b[0m\u001b[0;34m\u001b[0m\u001b[0;34m\u001b[0m\u001b[0m\n",
      "\u001b[0;31mTypeError\u001b[0m: 'dict' object cannot be interpreted as an integer"
     ]
    }
   ],
   "source": [
    "num_tasks = 13\n",
    "num_machines = 2\n",
    "task_units = [1 for _ in range(num_tasks)]\n",
    "task_transfer_units = {(0, 2) : 1, (1, 4) : 1, (2, 5) : 1, (3, 6) : 1, (4, 7) : 1, (5,8) : 1, (6,9) : 1, (1,2) : 1, (3,2) : 1, (4,5) : 1, (6,5) : 1, (7,8) : 1, (9,8):1, (7,10):1, (8,11):1, (9,12):1, (7,5):1, (9,5):1}\n",
    "machine_speeds = [1 for _ in range(num_machines)]\n",
    "machine_comm_bandwidths = [[-1 for _ in range(num_machines)] for _ in range(num_machines)]\n",
    "tie_breaking_rule = 1\n",
    "\n",
    "\n",
    "simulations = Test(task_units, task_transfer_units, machine_speeds, \\\n",
    "            machine_comm_bandwidths, tie_breaking_rule)\n",
    "\n",
    "print(simulations.machine_task_list)\n",
    "print(simulations.t)"
   ]
  },
  {
   "cell_type": "code",
   "execution_count": 3,
   "metadata": {},
   "outputs": [
    {
     "ename": "NameError",
     "evalue": "name 'simulations' is not defined",
     "output_type": "error",
     "traceback": [
      "\u001b[0;31m---------------------------------------------------------------------------\u001b[0m",
      "\u001b[0;31mNameError\u001b[0m                                 Traceback (most recent call last)",
      "\u001b[0;32m<ipython-input-3-ebb5beb6d740>\u001b[0m in \u001b[0;36m<module>\u001b[0;34m\u001b[0m\n\u001b[0;32m----> 1\u001b[0;31m \u001b[0mv\u001b[0m \u001b[0;34m=\u001b[0m \u001b[0mv_helper\u001b[0m\u001b[0;34m(\u001b[0m\u001b[0msimulations\u001b[0m\u001b[0;34m.\u001b[0m\u001b[0mG\u001b[0m\u001b[0;34m,\u001b[0m \u001b[0mnum_tasks\u001b[0m\u001b[0;34m,\u001b[0m \u001b[0msimulations\u001b[0m\u001b[0;34m.\u001b[0m\u001b[0mmachine_task_list\u001b[0m\u001b[0;34m,\u001b[0m \u001b[0msimulations\u001b[0m\u001b[0;34m.\u001b[0m\u001b[0mt\u001b[0m\u001b[0;34m)\u001b[0m\u001b[0;34m\u001b[0m\u001b[0;34m\u001b[0m\u001b[0m\n\u001b[0m\u001b[1;32m      2\u001b[0m \u001b[0mm\u001b[0m\u001b[0;34m,\u001b[0m \u001b[0ms\u001b[0m\u001b[0;34m,\u001b[0m \u001b[0mO\u001b[0m \u001b[0;34m=\u001b[0m \u001b[0minit_solver\u001b[0m\u001b[0;34m(\u001b[0m\u001b[0mv\u001b[0m\u001b[0;34m)\u001b[0m\u001b[0;34m\u001b[0m\u001b[0;34m\u001b[0m\u001b[0m\n\u001b[1;32m      3\u001b[0m \u001b[0;34m\u001b[0m\u001b[0m\n\u001b[1;32m      4\u001b[0m \u001b[0;31m# Manually add constraints\u001b[0m\u001b[0;34m\u001b[0m\u001b[0;34m\u001b[0m\u001b[0;34m\u001b[0m\u001b[0m\n\u001b[1;32m      5\u001b[0m \u001b[0;31m# m.Equation(1 / s[1] == 1 / s[5])\u001b[0m\u001b[0;34m\u001b[0m\u001b[0;34m\u001b[0m\u001b[0;34m\u001b[0m\u001b[0m\n",
      "\u001b[0;31mNameError\u001b[0m: name 'simulations' is not defined"
     ]
    }
   ],
   "source": [
    "v = v_helper(simulations.G, num_tasks, simulations.machine_task_list, simulations.t)    \n",
    "m, s, O = init_solver(v)\n",
    "\n",
    "# Manually add constraints\n",
    "# m.Equation(1 / s[1] == 1 / s[5]) \n",
    "\n",
    "s, task_process_time = solver_results(s, m, O, verbose=True)\n",
    "t = [[None, None] for _ in range(len(v))]\n",
    "\n",
    "make_assignment_visual(t, task_process_time, simulations.machine_task_list)"
   ]
  },
  {
   "cell_type": "code",
   "execution_count": 4,
   "metadata": {},
   "outputs": [
    {
     "ename": "TypeError",
     "evalue": "'dict' object cannot be interpreted as an integer",
     "output_type": "error",
     "traceback": [
      "\u001b[0;31m---------------------------------------------------------------------------\u001b[0m",
      "\u001b[0;31mTypeError\u001b[0m                                 Traceback (most recent call last)",
      "\u001b[0;32m<ipython-input-4-1677de6ab702>\u001b[0m in \u001b[0;36m<module>\u001b[0;34m\u001b[0m\n\u001b[1;32m      9\u001b[0m \u001b[0;34m\u001b[0m\u001b[0m\n\u001b[1;32m     10\u001b[0m simulations = Test(task_units, task_transfer_units, machine_speeds, \\\n\u001b[0;32m---> 11\u001b[0;31m             machine_comm_bandwidths, tie_breaking_rule)\n\u001b[0m\u001b[1;32m     12\u001b[0m \u001b[0;34m\u001b[0m\u001b[0m\n\u001b[1;32m     13\u001b[0m \u001b[0mprint\u001b[0m\u001b[0;34m(\u001b[0m\u001b[0msimulations\u001b[0m\u001b[0;34m.\u001b[0m\u001b[0mmachine_task_list\u001b[0m\u001b[0;34m)\u001b[0m\u001b[0;34m\u001b[0m\u001b[0;34m\u001b[0m\u001b[0m\n",
      "\u001b[0;32m~/task_scheduling_solvers/simulations.py\u001b[0m in \u001b[0;36m__init__\u001b[0;34m(self, num_tasks, num_machines, num_edges, tie_breaking_rule, is_etf, random)\u001b[0m\n\u001b[1;32m     31\u001b[0m \u001b[0;34m\u001b[0m\u001b[0m\n\u001b[1;32m     32\u001b[0m         \u001b[0mself\u001b[0m\u001b[0;34m.\u001b[0m\u001b[0mtie_breaking_rule\u001b[0m \u001b[0;34m=\u001b[0m \u001b[0mtie_breaking_rule\u001b[0m\u001b[0;34m\u001b[0m\u001b[0;34m\u001b[0m\u001b[0m\n\u001b[0;32m---> 33\u001b[0;31m         \u001b[0mself\u001b[0m\u001b[0;34m.\u001b[0m\u001b[0mmachine_speeds\u001b[0m \u001b[0;34m=\u001b[0m \u001b[0;34m[\u001b[0m\u001b[0;36m1\u001b[0m \u001b[0;32mfor\u001b[0m \u001b[0m_\u001b[0m \u001b[0;32min\u001b[0m \u001b[0mrange\u001b[0m\u001b[0;34m(\u001b[0m\u001b[0mnum_machines\u001b[0m\u001b[0;34m)\u001b[0m\u001b[0;34m]\u001b[0m\u001b[0;34m\u001b[0m\u001b[0;34m\u001b[0m\u001b[0m\n\u001b[0m\u001b[1;32m     34\u001b[0m \u001b[0;34m\u001b[0m\u001b[0m\n\u001b[1;32m     35\u001b[0m         \u001b[0;31m# m: Number of machines\u001b[0m\u001b[0;34m\u001b[0m\u001b[0;34m\u001b[0m\u001b[0;34m\u001b[0m\u001b[0m\n",
      "\u001b[0;31mTypeError\u001b[0m: 'dict' object cannot be interpreted as an integer"
     ]
    }
   ],
   "source": [
    "num_tasks = 13\n",
    "num_machines = 2\n",
    "task_units = [1 for _ in range(num_tasks)]\n",
    "task_transfer_units = {(0,3) : 1,(3,6) : 1,(6,9) : 1,(9,5) : 1,(5,8) : 1,(8,11) : 1,(1,4) : 1,(4,2) : 1,(2,7) : 1,(7,10) : 1,(10,12) : 1}\n",
    "machine_speeds = [1 for _ in range(num_machines)]\n",
    "machine_comm_bandwidths = [[-1 for _ in range(num_machines)] for _ in range(num_machines)]\n",
    "tie_breaking_rule = 1\n",
    "\n",
    "\n",
    "simulations = Test(task_units, task_transfer_units, machine_speeds, \\\n",
    "            machine_comm_bandwidths, tie_breaking_rule)\n",
    "\n",
    "print(simulations.machine_task_list)\n",
    "print(simulations.t)"
   ]
  },
  {
   "cell_type": "code",
   "execution_count": null,
   "metadata": {},
   "outputs": [],
   "source": [
    "v = v_helper(num_tasks, simulations.machine_task_list, simulations.t)    \n",
    "m, s, O = init_solver(v)\n",
    "\n",
    "# Manually add constraints\n",
    "#m.Equation(1 / s[0] + 1 / s[3] + 1 / s[6] + 1 / s[9] == 1 / s[1] + 1 / s[4] + 1 / s[2] + 1 / s[7]) \n",
    "\n",
    "s, task_process_time = solver_results(s, m, O, verbose=True)\n",
    "t = [[None, None] for _ in range(len(v))]\n",
    "\n",
    "make_assignment_visual(t, task_process_time, simulations.machine_task_list)"
   ]
  },
  {
   "cell_type": "code",
   "execution_count": null,
   "metadata": {},
   "outputs": [],
   "source": [
    "# with constraint - better\n",
    "print(49.376665747/48.668422264)\n",
    "\n",
    "#without constaint - worse\n",
    "print(49.376665747/48.618790867)"
   ]
  },
  {
   "cell_type": "code",
   "execution_count": null,
   "metadata": {},
   "outputs": [],
   "source": []
  }
 ],
 "metadata": {
  "kernelspec": {
   "display_name": "Python 3",
   "language": "python",
   "name": "python3"
  },
  "language_info": {
   "codemirror_mode": {
    "name": "ipython",
    "version": 3
   },
   "file_extension": ".py",
   "mimetype": "text/x-python",
   "name": "python",
   "nbconvert_exporter": "python",
   "pygments_lexer": "ipython3",
   "version": "3.7.3"
  }
 },
 "nbformat": 4,
 "nbformat_minor": 2
}
