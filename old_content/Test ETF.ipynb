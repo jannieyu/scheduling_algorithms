{
 "cells": [
  {
   "cell_type": "code",
   "execution_count": 1,
   "metadata": {},
   "outputs": [],
   "source": [
    "from gurobipy import *\n",
    "import networkx as nx\n",
    "import numpy as np\n",
    "import random\n",
    "import math\n",
    "import matplotlib.pyplot as plt\n",
    "from getf import GETF"
   ]
  },
  {
   "cell_type": "code",
   "execution_count": 2,
   "metadata": {},
   "outputs": [
    {
     "data": {
      "image/png": "[encoded data removed]",
      "text/plain": [
       "<Figure size 720x576 with 1 Axes>"
      ]
     },
     "metadata": {
      "needs_background": "light"
     },
     "output_type": "display_data"
    },
    {
     "name": "stdout",
     "output_type": "stream",
     "text": [
      "T + E from ETF: 12.0\n"
     ]
    }
   ],
   "source": [
    "# task_units: Length n list of computation units for each task.\n",
    "# task_transfer_units: Dictionary containing the dependencies and linkages\n",
    "#                     between all specified tasks. Edges that are used to construct the DAG.\n",
    "# machine_speeds: Length m list of speeds for all given machines\n",
    "# machine_comm_bandwidths: m x m matrix of communication times between each machine.\n",
    "# tie_breaking_rule: Integer to specify which way to break ties. (0: random)\n",
    "# is_etf: Flag to toggle from GETF to pure ETF\n",
    "\n",
    "num_tasks = 4\n",
    "num_machines = 2\n",
    "task_units = [1 for _ in range(num_tasks)]\n",
    "task_transfer_units = {(3, 2) : 1, (3, 1) : 1, (1, 0) : 1, (2, 0) : 1}\n",
    "machine_speeds = [1 for _ in range(num_machines)]\n",
    "machine_comm_bandwidths = [[-1 for _ in range(num_machines)] for _ in range(num_machines)]\n",
    "tie_breaking_rule = 1\n",
    "is_etf = True\n",
    "\n",
    "getf = GETF(task_units, task_transfer_units, machine_speeds, \\\n",
    "            machine_comm_bandwidths, tie_breaking_rule, is_etf)\n",
    "\n",
    "# T + E from ETF\n",
    "print(\"T + E from ETF: \" + str(getf.cost))"
   ]
  }
 ],
 "metadata": {
  "kernelspec": {
   "display_name": "Python 3",
   "language": "python",
   "name": "python3"
  },
  "language_info": {
   "codemirror_mode": {
    "name": "ipython",
    "version": 3
   },
   "file_extension": ".py",
   "mimetype": "text/x-python",
   "name": "python",
   "nbconvert_exporter": "python",
   "pygments_lexer": "ipython3",
   "version": "3.7.3"
  }
 },
 "nbformat": 4,
 "nbformat_minor": 2
}
